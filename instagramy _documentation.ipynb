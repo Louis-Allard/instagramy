{
 "cells": [
  {
   "cell_type": "code",
   "execution_count": 2,
   "metadata": {},
   "outputs": [],
   "source": [
    "from instagramy import InstagramUser"
   ]
  },
  {
   "cell_type": "code",
   "execution_count": 3,
   "metadata": {},
   "outputs": [],
   "source": [
    "user = InstagramUser(\"pubg\")"
   ]
  },
  {
   "cell_type": "code",
   "execution_count": 4,
   "metadata": {},
   "outputs": [
    {
     "data": {
      "text/plain": [
       "5251781"
      ]
     },
     "execution_count": 4,
     "metadata": {},
     "output_type": "execute_result"
    }
   ],
   "source": [
    "user.number_of_followers"
   ]
  },
  {
   "cell_type": "code",
   "execution_count": 5,
   "metadata": {},
   "outputs": [
    {
     "data": {
      "text/plain": [
       "0"
      ]
     },
     "execution_count": 5,
     "metadata": {},
     "output_type": "execute_result"
    }
   ],
   "source": [
    "user.number_of_followings"
   ]
  },
  {
   "cell_type": "code",
   "execution_count": 6,
   "metadata": {},
   "outputs": [
    {
     "data": {
      "text/plain": [
       "732"
      ]
     },
     "execution_count": 6,
     "metadata": {},
     "output_type": "execute_result"
    }
   ],
   "source": [
    "user.number_of_posts"
   ]
  },
  {
   "cell_type": "code",
   "execution_count": 7,
   "metadata": {},
   "outputs": [
    {
     "data": {
      "text/plain": [
       "\"Official Instagram for PLAYERUNKNOWN'S BATTLEGROUNDS. #PUBG #ThisIsBattleRoyale\\n👇 Update 8.1 Patch Notes\""
      ]
     },
     "execution_count": 7,
     "metadata": {},
     "output_type": "execute_result"
    }
   ],
   "source": [
    "user.biography"
   ]
  },
  {
   "cell_type": "code",
   "execution_count": 8,
   "metadata": {},
   "outputs": [
    {
     "data": {
      "text/plain": [
       "''"
      ]
     },
     "execution_count": 8,
     "metadata": {},
     "output_type": "execute_result"
    }
   ],
   "source": [
    "user.email"
   ]
  },
  {
   "cell_type": "code",
   "execution_count": 9,
   "metadata": {},
   "outputs": [
    {
     "data": {
      "text/plain": [
       "'http://bit.ly/2Oq00ZR'"
      ]
     },
     "execution_count": 9,
     "metadata": {},
     "output_type": "execute_result"
    }
   ],
   "source": [
    "user.website"
   ]
  },
  {
   "cell_type": "code",
   "execution_count": 11,
   "metadata": {},
   "outputs": [
    {
     "data": {
      "text/plain": [
       "'https://instagram.fixm1-1.fna.fbcdn.net/v/t51.2885-19/s320x320/47691698_367957357360446_1454443906891513856_n.jpg?_nc_ht=instagram.fixm1-1.fna.fbcdn.net&_nc_ohc=4oi8PNL3pSQAX8CQSQq&oh=90071e6df206a183dbb392444cbd8c1d&oe=5FA16A5C'"
      ]
     },
     "execution_count": 11,
     "metadata": {},
     "output_type": "execute_result"
    }
   ],
   "source": [
    "user.profile_picture_url"
   ]
  },
  {
   "cell_type": "code",
   "execution_count": 12,
   "metadata": {},
   "outputs": [
    {
     "data": {
      "text/plain": [
       "False"
      ]
     },
     "execution_count": 12,
     "metadata": {},
     "output_type": "execute_result"
    }
   ],
   "source": [
    "user.is_private"
   ]
  },
  {
   "cell_type": "code",
   "execution_count": 13,
   "metadata": {},
   "outputs": [
    {
     "data": {
      "text/plain": [
       "True"
      ]
     },
     "execution_count": 13,
     "metadata": {},
     "output_type": "execute_result"
    }
   ],
   "source": [
    "user.is_verified"
   ]
  },
  {
   "cell_type": "code",
   "execution_count": 14,
   "metadata": {},
   "outputs": [
    {
     "data": {
      "text/plain": [
       "\"PLAYERUNKNOWN'S BATTLEGROUNDS\""
      ]
     },
     "execution_count": 14,
     "metadata": {},
     "output_type": "execute_result"
    }
   ],
   "source": [
    "user.fullname"
   ]
  },
  {
   "cell_type": "code",
   "execution_count": 15,
   "metadata": {},
   "outputs": [
    {
     "data": {
      "text/plain": [
       "{'is_private': False,\n",
       " 'is_verified': True,\n",
       " 'is_business_account': True,\n",
       " 'is_joined_recently': False,\n",
       " 'has_ar_effects': False,\n",
       " 'has_clips': False,\n",
       " 'has_guides': False,\n",
       " 'has_channel': False}"
      ]
     },
     "execution_count": 15,
     "metadata": {},
     "output_type": "execute_result"
    }
   ],
   "source": [
    "user.other_info"
   ]
  },
  {
   "cell_type": "code",
   "execution_count": 16,
   "metadata": {},
   "outputs": [
    {
     "data": {
      "text/plain": [
       "['https://instagram.fixm1-1.fna.fbcdn.net/v/t51.2885-15/e35/120219611_182027123431360_4484880463597663849_n.jpg?_nc_ht=instagram.fixm1-1.fna.fbcdn.net&_nc_cat=1&_nc_ohc=39qb5VY2yO4AX9iZVY-&_nc_tp=18&oh=e754caffdcd68e0f2ac119632d51be6d&oe=5FA3012E',\n",
       " 'https://instagram.fixm1-1.fna.fbcdn.net/v/t51.2885-15/e35/120473568_794545181300799_7190566472797749168_n.jpg?_nc_ht=instagram.fixm1-1.fna.fbcdn.net&_nc_cat=1&_nc_ohc=t5D35MhjJrEAX9u70p-&_nc_tp=18&oh=e93645c837eba21ff13da8ba9cb31735&oe=5FA08AB1',\n",
       " 'https://instagram.fixm1-1.fna.fbcdn.net/v/t51.2885-15/fr/e15/s1080x1080/120137588_336698017749489_2508746178037849418_n.jpg?_nc_ht=instagram.fixm1-1.fna.fbcdn.net&_nc_cat=109&_nc_ohc=7TDI_vkdw-MAX_0uL3b&oh=b83a4970288cdb5208f3f9ea9e4a11fa&oe=5FA1C62D',\n",
       " 'https://instagram.fixm1-1.fna.fbcdn.net/v/t51.2885-15/fr/e15/s1080x1080/120198474_841279693298703_1047381552391600089_n.jpg?_nc_ht=instagram.fixm1-1.fna.fbcdn.net&_nc_cat=103&_nc_ohc=fBBWw0Ejyo8AX85jmp1&oh=3dc8cd5fb33ff35ce862dcccb2581acc&oe=5FA2F5D0',\n",
       " 'https://instagram.fixm1-1.fna.fbcdn.net/v/t51.2885-15/fr/e15/s1080x1080/120069911_3315425515213870_6015272816542821986_n.jpg?_nc_ht=instagram.fixm1-1.fna.fbcdn.net&_nc_cat=110&_nc_ohc=cdn5tnANrCAAX_iugOW&oh=4889f4fb6b325357ec6e0be06b0ad040&oe=5F7A3325',\n",
       " 'https://instagram.fixm1-1.fna.fbcdn.net/v/t51.2885-15/e35/120091552_641622606497182_4877952564943525050_n.jpg?_nc_ht=instagram.fixm1-1.fna.fbcdn.net&_nc_cat=110&_nc_ohc=H5NCGjGHR3EAX8YPoVn&_nc_tp=18&oh=894a31c777c3ae603805ec9a05ab730d&oe=5FA1E3AF',\n",
       " 'https://instagram.fixm1-1.fna.fbcdn.net/v/t51.2885-15/fr/e15/s1080x1080/120178744_784411765686828_7867416391296895114_n.jpg?_nc_ht=instagram.fixm1-1.fna.fbcdn.net&_nc_cat=100&_nc_ohc=LocVJXRJggcAX-JRMRV&oh=e3cc1098ea93dcb3746481485cd7440d&oe=5F7A55EE',\n",
       " 'https://instagram.fixm1-1.fna.fbcdn.net/v/t51.2885-15/fr/e15/p1080x1080/119956123_200158108193046_3371174132397070689_n.jpg?_nc_ht=instagram.fixm1-1.fna.fbcdn.net&_nc_cat=106&_nc_ohc=C4X0W735XgkAX8o9ZZe&oh=fe24354e553f40f70914b2075650ebe1&oe=5F7A33E1',\n",
       " 'https://instagram.fixm1-1.fna.fbcdn.net/v/t51.2885-15/e35/119954439_249156839767342_4406033036147841390_n.jpg?_nc_ht=instagram.fixm1-1.fna.fbcdn.net&_nc_cat=110&_nc_ohc=Laq6c3PmyMsAX9BYX5l&_nc_tp=18&oh=dad2bc353c49fddd9d7a94ea355e92b8&oe=5FA1D345',\n",
       " 'https://instagram.fixm1-1.fna.fbcdn.net/v/t51.2885-15/e35/119649670_1415524378642954_2519764536547138422_n.jpg?_nc_ht=instagram.fixm1-1.fna.fbcdn.net&_nc_cat=110&_nc_ohc=bNV3Kk1kGBQAX_MM6st&_nc_tp=18&oh=a4d04215626482c45349b420e92da4f3&oe=5FA1C111',\n",
       " 'https://instagram.fixm1-1.fna.fbcdn.net/v/t51.2885-15/e35/119476743_176091510730326_2478053394264259696_n.jpg?_nc_ht=instagram.fixm1-1.fna.fbcdn.net&_nc_cat=106&_nc_ohc=lkYNIkC9dEkAX_WVU7Q&_nc_tp=18&oh=08cabc859960a91703006977eb7cedbd&oe=5FA34FB7',\n",
       " 'https://instagram.fixm1-1.fna.fbcdn.net/v/t51.2885-15/e35/119335975_351687819348189_2158589966268819758_n.jpg?_nc_ht=instagram.fixm1-1.fna.fbcdn.net&_nc_cat=109&_nc_ohc=YpNDM1H7acMAX_hm0LN&_nc_tp=18&oh=945273691532bda567620d3843b5c508&oe=5FA2C8A0']"
      ]
     },
     "execution_count": 16,
     "metadata": {},
     "output_type": "execute_result"
    }
   ],
   "source": [
    "user.posts_url # Only recent 12 posts of user"
   ]
  },
  {
   "cell_type": "code",
   "execution_count": 20,
   "metadata": {},
   "outputs": [
    {
     "name": "stdout",
     "output_type": "stream",
     "text": [
      "Likes: 12201\n",
      "Likes: 48312\n",
      "Likes: 50330\n",
      "Likes: 38211\n",
      "Likes: 36109\n",
      "Likes: 34288\n",
      "Likes: 42234\n",
      "Likes: 48589\n",
      "Likes: 81174\n",
      "Likes: 28957\n",
      "Likes: 62162\n",
      "Likes: 46172\n"
     ]
    }
   ],
   "source": [
    "posts = user.posts\n",
    "for post in posts: # Recent 12 posts likes\n",
    "    print(f\"Likes: {post['likes']}\")"
   ]
  },
  {
   "cell_type": "code",
   "execution_count": 22,
   "metadata": {},
   "outputs": [
    {
     "data": {
      "text/plain": [
       "[{'url': 'https://instagram.fixm1-1.fna.fbcdn.net/v/t51.2885-15/e35/120219611_182027123431360_4484880463597663849_n.jpg?_nc_ht=instagram.fixm1-1.fna.fbcdn.net&_nc_cat=1&_nc_ohc=39qb5VY2yO4AX9iZVY-&_nc_tp=18&oh=e754caffdcd68e0f2ac119632d51be6d&oe=5FA3012E',\n",
       "  'likes': 12201,\n",
       "  'comment': 63,\n",
       "  'caption': 'Photo by PLAYERUNKNOWN\\'S BATTLEGROUNDS on October 02, 2020. Image may contain: 1 person, text that says \\'B PS4 10% OFF G-COIN SALE ENDS SOON! OCT 06 d \"PlayStation\" PUBG\\'.',\n",
       "  'is_video': False,\n",
       "  'timestamp': 1601686817,\n",
       "  'location': None},\n",
       " {'url': 'https://instagram.fixm1-1.fna.fbcdn.net/v/t51.2885-15/e35/120473568_794545181300799_7190566472797749168_n.jpg?_nc_ht=instagram.fixm1-1.fna.fbcdn.net&_nc_cat=1&_nc_ohc=t5D35MhjJrEAX9u70p-&_nc_tp=18&oh=e93645c837eba21ff13da8ba9cb31735&oe=5FA08AB1',\n",
       "  'likes': 48312,\n",
       "  'comment': 321,\n",
       "  'caption': \"Photo by PLAYERUNKNOWN'S BATTLEGROUNDS on October 02, 2020. Image may contain: 1 person, text that says 'ARENĄ MODE PLAYERUNKNOWN'S BATTLEGROUNDS ®'.\",\n",
       "  'is_video': False,\n",
       "  'timestamp': 1601622015,\n",
       "  'location': None},\n",
       " {'url': 'https://instagram.fixm1-1.fna.fbcdn.net/v/t51.2885-15/fr/e15/s1080x1080/120137588_336698017749489_2508746178037849418_n.jpg?_nc_ht=instagram.fixm1-1.fna.fbcdn.net&_nc_cat=109&_nc_ohc=7TDI_vkdw-MAX_0uL3b&oh=b83a4970288cdb5208f3f9ea9e4a11fa&oe=5FA1C62D',\n",
       "  'likes': 50330,\n",
       "  'comment': 370,\n",
       "  'caption': \"Photo by PLAYERUNKNOWN'S BATTLEGROUNDS on September 30, 2020. Image may contain: text.\",\n",
       "  'is_video': False,\n",
       "  'timestamp': 1601449227,\n",
       "  'location': None},\n",
       " {'url': 'https://instagram.fixm1-1.fna.fbcdn.net/v/t51.2885-15/fr/e15/s1080x1080/120198474_841279693298703_1047381552391600089_n.jpg?_nc_ht=instagram.fixm1-1.fna.fbcdn.net&_nc_cat=103&_nc_ohc=fBBWw0Ejyo8AX85jmp1&oh=3dc8cd5fb33ff35ce862dcccb2581acc&oe=5FA2F5D0',\n",
       "  'likes': 38211,\n",
       "  'comment': 380,\n",
       "  'caption': \"Photo by PLAYERUNKNOWN'S BATTLEGROUNDS on September 28, 2020. Image may contain: text that says 'SEASON 8 RANKED MODE R TOP 500 REWARDS TOP 500 EMBLEM MASTER EMBLEM UAZ VEHICLE SKIN PARACHUTE SKIN MASTER MASTER-REWARDS MASTER EMBLEM UAZ VEHICLE SKIN PARACHUTE SKIN DIAMOND REWARDS 8 DIAMOND EMBLEM UAZ VEHICLE SKIN PARACHUTESKIN PLAYERUNKNOWN'S BATTLEGROUNDS'.\",\n",
       "  'is_video': False,\n",
       "  'timestamp': 1601276439,\n",
       "  'location': None},\n",
       " {'url': 'https://instagram.fixm1-1.fna.fbcdn.net/v/t51.2885-15/fr/e15/s1080x1080/120069911_3315425515213870_6015272816542821986_n.jpg?_nc_ht=instagram.fixm1-1.fna.fbcdn.net&_nc_cat=110&_nc_ohc=cdn5tnANrCAAX_iugOW&oh=4889f4fb6b325357ec6e0be06b0ad040&oe=5F7A3325',\n",
       "  'likes': 36109,\n",
       "  'comment': 442,\n",
       "  'caption': None,\n",
       "  'is_video': True,\n",
       "  'timestamp': 1601103637,\n",
       "  'location': None},\n",
       " {'url': 'https://instagram.fixm1-1.fna.fbcdn.net/v/t51.2885-15/e35/120091552_641622606497182_4877952564943525050_n.jpg?_nc_ht=instagram.fixm1-1.fna.fbcdn.net&_nc_cat=110&_nc_ohc=H5NCGjGHR3EAX8YPoVn&_nc_tp=18&oh=894a31c777c3ae603805ec9a05ab730d&oe=5FA1E3AF',\n",
       "  'likes': 34288,\n",
       "  'comment': 411,\n",
       "  'caption': \"Photo by PLAYERUNKNOWN'S BATTLEGROUNDS on September 25, 2020. Image may contain: text that says 'ARENA MODE NOW AVAILABLE It SUN 13 MON 14 TUE 15 WED THU 17 20 SAT FRI 18 22 23 27 28 25 26 29 30 PC+ CONSOLE 6 5 2 3 9'.\",\n",
       "  'is_video': False,\n",
       "  'timestamp': 1601019008,\n",
       "  'location': None},\n",
       " {'url': 'https://instagram.fixm1-1.fna.fbcdn.net/v/t51.2885-15/fr/e15/s1080x1080/120178744_784411765686828_7867416391296895114_n.jpg?_nc_ht=instagram.fixm1-1.fna.fbcdn.net&_nc_cat=100&_nc_ohc=LocVJXRJggcAX-JRMRV&oh=e3cc1098ea93dcb3746481485cd7440d&oe=5F7A55EE',\n",
       "  'likes': 42234,\n",
       "  'comment': 311,\n",
       "  'caption': None,\n",
       "  'is_video': True,\n",
       "  'timestamp': 1601017246,\n",
       "  'location': None},\n",
       " {'url': 'https://instagram.fixm1-1.fna.fbcdn.net/v/t51.2885-15/fr/e15/p1080x1080/119956123_200158108193046_3371174132397070689_n.jpg?_nc_ht=instagram.fixm1-1.fna.fbcdn.net&_nc_cat=106&_nc_ohc=C4X0W735XgkAX8o9ZZe&oh=fe24354e553f40f70914b2075650ebe1&oe=5F7A33E1',\n",
       "  'likes': 48589,\n",
       "  'comment': 767,\n",
       "  'caption': None,\n",
       "  'is_video': True,\n",
       "  'timestamp': 1600844450,\n",
       "  'location': None},\n",
       " {'url': 'https://instagram.fixm1-1.fna.fbcdn.net/v/t51.2885-15/e35/119954439_249156839767342_4406033036147841390_n.jpg?_nc_ht=instagram.fixm1-1.fna.fbcdn.net&_nc_cat=110&_nc_ohc=Laq6c3PmyMsAX9BYX5l&_nc_tp=18&oh=dad2bc353c49fddd9d7a94ea355e92b8&oe=5FA1D345',\n",
       "  'likes': 81174,\n",
       "  'comment': 750,\n",
       "  'caption': \"Photo by PLAYERUNKNOWN'S BATTLEGROUNDS on September 22, 2020. Image may contain: one or more people and people standing, text that says 'JAMMERPACK JAMM PLAYERUNKNOWN'S BATTLEGROUNDS'.\",\n",
       "  'is_video': False,\n",
       "  'timestamp': 1600758065,\n",
       "  'location': None},\n",
       " {'url': 'https://instagram.fixm1-1.fna.fbcdn.net/v/t51.2885-15/e35/119649670_1415524378642954_2519764536547138422_n.jpg?_nc_ht=instagram.fixm1-1.fna.fbcdn.net&_nc_cat=110&_nc_ohc=bNV3Kk1kGBQAX_MM6st&_nc_tp=18&oh=a4d04215626482c45349b420e92da4f3&oe=5FA1C111',\n",
       "  'likes': 28957,\n",
       "  'comment': 273,\n",
       "  'caption': \"Photo by PLAYERUNKNOWN'S BATTLEGROUNDS on September 21, 2020. Image may contain: one or more people, text that says 'MATCH TRAINING AK MODE DUAL TRAIN ATCHMAKING WHILE YOU WAIT ENTER PLAYERUNKNOWN'S BATTLEGROUNDS'.\",\n",
       "  'is_video': False,\n",
       "  'timestamp': 1600671613,\n",
       "  'location': None},\n",
       " {'url': 'https://instagram.fixm1-1.fna.fbcdn.net/v/t51.2885-15/e35/119476743_176091510730326_2478053394264259696_n.jpg?_nc_ht=instagram.fixm1-1.fna.fbcdn.net&_nc_cat=106&_nc_ohc=lkYNIkC9dEkAX_WVU7Q&_nc_tp=18&oh=08cabc859960a91703006977eb7cedbd&oe=5FA34FB7',\n",
       "  'likes': 62162,\n",
       "  'comment': 688,\n",
       "  'caption': \"Photo by PLAYERUNKNOWN'S BATTLEGROUNDS on September 17, 2020.\",\n",
       "  'is_video': False,\n",
       "  'timestamp': 1600326015,\n",
       "  'location': None},\n",
       " {'url': 'https://instagram.fixm1-1.fna.fbcdn.net/v/t51.2885-15/e35/119335975_351687819348189_2158589966268819758_n.jpg?_nc_ht=instagram.fixm1-1.fna.fbcdn.net&_nc_cat=109&_nc_ohc=YpNDM1H7acMAX_hm0LN&_nc_tp=18&oh=945273691532bda567620d3843b5c508&oe=5FA2C8A0',\n",
       "  'likes': 46172,\n",
       "  'comment': 338,\n",
       "  'caption': \"Photo by PLAYERUNKNOWN'S BATTLEGROUNDS on September 16, 2020. Image may contain: one or more people and text.\",\n",
       "  'is_video': False,\n",
       "  'timestamp': 1600250416,\n",
       "  'location': None}]"
      ]
     },
     "execution_count": 22,
     "metadata": {},
     "output_type": "execute_result"
    }
   ],
   "source": [
    "user.posts # Recent 12 posts details"
   ]
  },
  {
   "cell_type": "code",
   "execution_count": 23,
   "metadata": {},
   "outputs": [],
   "source": [
    "import pandas as pd"
   ]
  },
  {
   "cell_type": "code",
   "execution_count": 24,
   "metadata": {},
   "outputs": [],
   "source": [
    "users = [\"google\",\"instagram\",\"pubg\",\"facebook\",\"github\",\"microsoft\"]"
   ]
  },
  {
   "cell_type": "code",
   "execution_count": 25,
   "metadata": {},
   "outputs": [],
   "source": [
    "followers = []\n",
    "followings = []\n",
    "posts = []\n",
    "for user in users:\n",
    "    x = InstagramUser(user)\n",
    "    followers.append(x.number_of_followers)\n",
    "    followings.append(x.number_of_followings)\n",
    "    posts.append(x.number_of_posts)"
   ]
  },
  {
   "cell_type": "code",
   "execution_count": 26,
   "metadata": {},
   "outputs": [],
   "source": [
    "DATA = list(zip(users, followers, followings, posts))"
   ]
  },
  {
   "cell_type": "code",
   "execution_count": 27,
   "metadata": {},
   "outputs": [
    {
     "data": {
      "text/plain": [
       "[('google', 12250042, 30, 1399),\n",
       " ('instagram', 369814057, 52, 6506),\n",
       " ('pubg', 5251742, 0, 732),\n",
       " ('facebook', 373211, 11, 45),\n",
       " ('github', 121376, 19, 159),\n",
       " ('microsoft', 2798108, 229, 612)]"
      ]
     },
     "execution_count": 27,
     "metadata": {},
     "output_type": "execute_result"
    }
   ],
   "source": [
    "DATA"
   ]
  },
  {
   "cell_type": "code",
   "execution_count": 30,
   "metadata": {},
   "outputs": [],
   "source": [
    "DATA_FRAME = pd.DataFrame(DATA, columns=[\"Users\",\"Followers\",\"Followings\",\"Posts\"])"
   ]
  },
  {
   "cell_type": "code",
   "execution_count": 31,
   "metadata": {},
   "outputs": [
    {
     "data": {
      "text/html": [
       "<div>\n",
       "<style scoped>\n",
       "    .dataframe tbody tr th:only-of-type {\n",
       "        vertical-align: middle;\n",
       "    }\n",
       "\n",
       "    .dataframe tbody tr th {\n",
       "        vertical-align: top;\n",
       "    }\n",
       "\n",
       "    .dataframe thead th {\n",
       "        text-align: right;\n",
       "    }\n",
       "</style>\n",
       "<table border=\"1\" class=\"dataframe\">\n",
       "  <thead>\n",
       "    <tr style=\"text-align: right;\">\n",
       "      <th></th>\n",
       "      <th>Users</th>\n",
       "      <th>Followers</th>\n",
       "      <th>Followings</th>\n",
       "      <th>Posts</th>\n",
       "    </tr>\n",
       "  </thead>\n",
       "  <tbody>\n",
       "    <tr>\n",
       "      <th>0</th>\n",
       "      <td>google</td>\n",
       "      <td>12250042</td>\n",
       "      <td>30</td>\n",
       "      <td>1399</td>\n",
       "    </tr>\n",
       "    <tr>\n",
       "      <th>1</th>\n",
       "      <td>instagram</td>\n",
       "      <td>369814057</td>\n",
       "      <td>52</td>\n",
       "      <td>6506</td>\n",
       "    </tr>\n",
       "    <tr>\n",
       "      <th>2</th>\n",
       "      <td>pubg</td>\n",
       "      <td>5251742</td>\n",
       "      <td>0</td>\n",
       "      <td>732</td>\n",
       "    </tr>\n",
       "    <tr>\n",
       "      <th>3</th>\n",
       "      <td>facebook</td>\n",
       "      <td>373211</td>\n",
       "      <td>11</td>\n",
       "      <td>45</td>\n",
       "    </tr>\n",
       "    <tr>\n",
       "      <th>4</th>\n",
       "      <td>github</td>\n",
       "      <td>121376</td>\n",
       "      <td>19</td>\n",
       "      <td>159</td>\n",
       "    </tr>\n",
       "    <tr>\n",
       "      <th>5</th>\n",
       "      <td>microsoft</td>\n",
       "      <td>2798108</td>\n",
       "      <td>229</td>\n",
       "      <td>612</td>\n",
       "    </tr>\n",
       "  </tbody>\n",
       "</table>\n",
       "</div>"
      ],
      "text/plain": [
       "       Users  Followers  Followings  Posts\n",
       "0     google   12250042          30   1399\n",
       "1  instagram  369814057          52   6506\n",
       "2       pubg    5251742           0    732\n",
       "3   facebook     373211          11     45\n",
       "4     github     121376          19    159\n",
       "5  microsoft    2798108         229    612"
      ]
     },
     "execution_count": 31,
     "metadata": {},
     "output_type": "execute_result"
    }
   ],
   "source": [
    "DATA_FRAME"
   ]
  },
  {
   "cell_type": "code",
   "execution_count": null,
   "metadata": {},
   "outputs": [],
   "source": []
  }
 ],
 "metadata": {
  "kernelspec": {
   "display_name": "Python 3",
   "language": "python",
   "name": "python3"
  },
  "language_info": {
   "codemirror_mode": {
    "name": "ipython",
    "version": 3
   },
   "file_extension": ".py",
   "mimetype": "text/x-python",
   "name": "python",
   "nbconvert_exporter": "python",
   "pygments_lexer": "ipython3",
   "version": "3.8.2"
  }
 },
 "nbformat": 4,
 "nbformat_minor": 4
}
